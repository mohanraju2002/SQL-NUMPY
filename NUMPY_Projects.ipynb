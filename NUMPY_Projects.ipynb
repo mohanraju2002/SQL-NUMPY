{
  "nbformat": 4,
  "nbformat_minor": 0,
  "metadata": {
    "colab": {
      "provenance": [],
      "authorship_tag": "ABX9TyM8twJEu6/o0C8qkSz/AGnK",
      "include_colab_link": true
    },
    "kernelspec": {
      "name": "python3",
      "display_name": "Python 3"
    },
    "language_info": {
      "name": "python"
    }
  },
  "cells": [
    {
      "cell_type": "markdown",
      "metadata": {
        "id": "view-in-github",
        "colab_type": "text"
      },
      "source": [
        "<a href=\"https://colab.research.google.com/github/mohanraju2002/SQL-NUMPY/blob/master/NUMPY_Projects.ipynb\" target=\"_parent\"><img src=\"https://colab.research.google.com/assets/colab-badge.svg\" alt=\"Open In Colab\"/></a>"
      ]
    },
    {
      "cell_type": "code",
      "execution_count": null,
      "metadata": {
        "colab": {
          "base_uri": "https://localhost:8080/"
        },
        "id": "Bm_W-nOtlFX5",
        "outputId": "fb9129e4-71d9-4665-d137-e4d94fb3b7b1"
      },
      "outputs": [
        {
          "output_type": "stream",
          "name": "stdout",
          "text": [
            "the A matrix is:\n",
            " [[2 4 6 8]\n",
            " [5 6 7 8]\n",
            " [4 7 9 8]]\n",
            "\n",
            "the B matrix is:\n",
            " [[2 3 4 5]\n",
            " [1 2 2 2]\n",
            " [7 8 9 7]]\n",
            "\n",
            " 1=ADDITION\n",
            "          2=SUBSTRACTION\n",
            "          3=MULTIPLICATION\n",
            "          4=A.TRANSPOSE\n",
            "          5=B.TRANSPOSE\n",
            "          6=(A,B.T)\n",
            "          7=(B,A.T) \n",
            "ENTER YOUR CHOICE:2\n",
            "THE SUBSTRACTION OF TWO MATRIX IS:\n",
            " [[ 0  1  2  3]\n",
            " [ 4  4  5  6]\n",
            " [-3 -1  0  1]]\n"
          ]
        }
      ],
      "source": [
        "import numpy as np\n",
        "A=np.array([[2,4,6,8],\n",
        "    [5,6,7,8],\n",
        "    [4,7,9,8]])\n",
        "\n",
        "B=np.array([[2,3,4,5],\n",
        "    [1,2,2,2],\n",
        "    [7,8,9,7]])\n",
        "\n",
        "import numpy as np\n",
        "A=np.array([[2,4,6,8],\n",
        "    [5,6,7,8],\n",
        "    [4,7,9,8]])\n",
        "\n",
        "B=np.array([[2,3,4,5],\n",
        "    [1,2,2,2],\n",
        "    [7,8,9,7]])\n",
        "\n",
        "print(\"the A matrix is:\\n\",A)\n",
        "print()\n",
        "print(\"the B matrix is:\\n\",B)\n",
        "print()\n",
        "print(\"\"\" 1=ADDITION\n",
        "          2=SUBSTRACTION\n",
        "          3=MULTIPLICATION\n",
        "          4=A.TRANSPOSE\n",
        "          5=B.TRANSPOSE\n",
        "          6=(A,B.T)\n",
        "          7=(B,A.T) \"\"\"\n",
        "        )\n",
        "\n",
        "if A.shape==B.shape:\n",
        "\n",
        "  choice=int(input(\"ENTER YOUR CHOICE:\"))\n",
        "  if choice==1:\n",
        "    print(\"THE SUM OF TWO MATRIX IS:\\n\",A+B)\n",
        "  elif choice==2:\n",
        "    print(\"THE SUBSTRACTION OF TWO MATRIX IS:\\n\",A-B)\n",
        "  elif choice==3:\n",
        "    print(\"THE MULTIPLICATION OF TWO MATRIXS IS:\\n\",A*B)\n",
        "  elif choice==4:\n",
        "    print(\"The transpose of A is:\\n\",np.transpose(A))\n",
        "  elif choice==5:\n",
        "    C = np.dot(A, B.T)\n",
        "    print(\"THE MATRIX MULTIPLICATION OF A AND B.T IS:\\n\", C)\n",
        "  elif choice==6:\n",
        "    print(\"The transpose of B is:\\n\",np.transpose(B))\n",
        "  elif choice==7:\n",
        "    D=np.dot(B,A.T)\n",
        "    print(\"THE MATRIX MULTIPLICATION OF B AND A.T IS:\\n\", D)\n",
        "  else:\n",
        "    print(\"OUT OF RANGE\")\n",
        "else:\n",
        "  print(\"BOTH ARE NOT SAME\")"
      ]
    },
    {
      "cell_type": "code",
      "source": [
        "import numpy as np\n",
        "school=([99,86,95],\n",
        "        [89,76,96],\n",
        "        [89,87,82],\n",
        "        [56,67,59],\n",
        "        [45,36,38]\n",
        "        )\n",
        "\n",
        "data=np.array(school)\n",
        "print(data)\n",
        "print()\n",
        "a=(\"1=mohan\",\"2=dimple\",\"3=murari\",\"4=ganesh\",\"5=lokesh\",\"6=avg marks of 5 students\",\"7=topper of each subject\")\n",
        "for i in a:\n",
        "  print(i)\n",
        "choice=input(\"WHAT DO you WANT:\")\n",
        "if choice==\"1\":\n",
        "  marks=data[0]\n",
        "  print(\"TELUGU=\",data[0,0],\"\\nHINDI =\",data[0,1],\"\\nENGLISH=\",data[0,2])\n",
        "  print(\"THE TOTAL MARKS IN 3 SUBJECTS=\",marks.sum())\n",
        "  print(\"THE AVERAGE MARKS IN 3 SUBJECTS=\",round(marks.mean(),2))\n",
        "  print(\"THE MAXIMUM MARKS IN 3 SUBJECTS=\",marks.max())\n",
        "  print(\"THE MINIMUM MARKS IN 3 SUBJECTS=\",marks.min())\n",
        "  print(\"THE STD DEVIATION IN 3 SUBJECTS=\",marks.std())\n",
        "elif choice==\"2\":\n",
        "  marks=data[1]\n",
        "  print(\"TELUGU=\",data[1,0],\"\\nHINDI =\",data[1,1],\"\\nENGLISH=\",data[1,2])\n",
        "  print(\"THE TOTAL MARKS IN 3 SUBJECTS=\",marks.sum())\n",
        "  print(\"THE AVERAGE MARKS IN 3 SUBJECTS\",round(marks.mean(),2))\n",
        "  print(\"THE MAXIMUM MARKS IN 3 SUBJECTS=\",marks.max())\n",
        "  print(\"THE MINIMUM MARKS IN 3 SUBJECTS=\",marks.min())\n",
        "  print(\"THE STD DEVIATION IN 3 SUBJECTS=\",marks.std())\n",
        "elif choice==\"3\":\n",
        "  marks=data[2]\n",
        "  print(\"TELUGU=\",data[2,0],\"\\nHINDI =\",data[2,1],\"\\nENGLISH=\",data[2,2])\n",
        "  print(\"THE TOTAL MARKS IN 3 SUBJECTS=\",marks.sum())\n",
        "  print(\"THE AVERAGE MARKS IN 3 SUBJECTS\",round(marks.mean(),2))\n",
        "  print(\"THE MAXIMUM MARKS IN 3 SUBJECTS=\",marks.max())\n",
        "  print(\"THE MINIMUM MARKS IN 3 SUBJECTS=\",marks.min())\n",
        "  print(\"THE STD DEVIATION IN 3 SUBJECTS=\",marks.std())\n",
        "elif choice==\"4\":\n",
        "  marks=data[3]\n",
        "  print(\"TELUGU=\",data[3,0],\"\\nHINDI =\",data[3,1],\"\\nENGLISH=\",data[3,2])\n",
        "  print(\"THE TOTAL MARKS IN 3 SUBJECTS=\",marks.sum())\n",
        "  print(\"THE AVERAGE MARKS IN 3 SUBJECTS\",round(marks.mean(),2))\n",
        "  print(\"THE MAXIMUM MARKS IN 3 SUBJECTS=\",marks.max())\n",
        "  print(\"THE MINIMUM MARKS IN 3 SUBJECTS=\",marks.min())\n",
        "  print(\"THE STD DEVIATION IN 3 SUBJECTS=\",marks.std())\n",
        "elif choice==\"5\":\n",
        "  marks=data[4]\n",
        "  print(\"TELUGU=\",data[4,0],\"\\nHINDI =\",data[4,1],\"\\nENGLISH=\",data[4,2])\n",
        "  print(\"THE TOTAL MARKS IN 3 SUBJECTS=\",marks.sum())\n",
        "  print(\"THE AVERAGE MARKS IN 3 SUBJECTS\",round(marks.mean(),2))\n",
        "  print(\"THE MAXIMUM MARKS IN 3 SUBJECTS=\",marks.max())\n",
        "  print(\"THE MINIMUM MARKS IN 3 SUBJECTS=\",marks.min())\n",
        "  print(\"THE STD DEVIATION IN 3 SUBJECTS=\",marks.std())\n",
        "elif choice==\"6\":\n",
        "  mohan=data[0]\n",
        "  dimple=data[1]\n",
        "  murari=data[2]\n",
        "  ganesh=data[3]\n",
        "  lokesh=data[4]\n",
        "  print(\"THE AVERAGE MARKS OF MOHAN =\",round(mohan.mean(),2))\n",
        "  print(\"THE AVERAGE MARKS OF DIMPLE =\",round(dimple.mean(),2))\n",
        "  print(\"THE AVERAGE MARKS OF MURARI =\",round(murari.mean(),2))\n",
        "  print(\"THE AVERAGE MARKS OF GANESH =\",round(ganesh.mean(),2))\n",
        "  print(\"THE AVERAGE MARKS OF LOKESH =\",round(lokesh.mean(),2))\n",
        "elif choice==\"7\":\n",
        "  names = [\"Mohan\", \"Dimple\", \"Murari\", \"Ganesh\", \"Lokesh\"]\n",
        "\n",
        "  subjects = [\"Telugu\", \"Hindi\", \"English\"]\n",
        "  print()\n",
        "  print(\"Marks Table:\\n\", data)\n",
        "  print()\n",
        "  for i in range(3):\n",
        "      subject_marks = data[:, i]\n",
        "      topper_index = subject_marks.argmax()\n",
        "      topper_name = names[topper_index]\n",
        "      topper_marks = subject_marks[topper_index]\n",
        "\n",
        "      print(\"Topper in\", subjects[i], \"=\", topper_name, \"with\", topper_marks, \"marks\")\n",
        "\n",
        "else:\n",
        "    print(\"the student is not my class\")\n"
      ],
      "metadata": {
        "colab": {
          "base_uri": "https://localhost:8080/"
        },
        "id": "ycdMd-OtlMZV",
        "outputId": "ec2d7c1b-78ea-42ad-d389-143299890f55"
      },
      "execution_count": null,
      "outputs": [
        {
          "output_type": "stream",
          "name": "stdout",
          "text": [
            "[[99 86 95]\n",
            " [89 76 96]\n",
            " [89 87 82]\n",
            " [56 67 59]\n",
            " [45 36 38]]\n",
            "\n",
            "1=mohan\n",
            "2=dimple\n",
            "3=murari\n",
            "4=ganesh\n",
            "5=lokesh\n",
            "6=avg marks of 5 students\n",
            "7=topper of each subject\n",
            "WHAT DO you WANT:4\n",
            "TELUGU= 56 \n",
            "HINDI = 67 \n",
            "ENGLISH= 59\n",
            "THE TOTAL MARKS IN 3 SUBJECTS= 182\n",
            "THE AVERAGE MARKS IN 3 SUBJECTS 60.67\n",
            "THE MAXIMUM MARKS IN 3 SUBJECTS= 67\n",
            "THE MINIMUM MARKS IN 3 SUBJECTS= 56\n",
            "THE STD DEVIATION IN 3 SUBJECTS= 4.642796092394707\n"
          ]
        }
      ]
    },
    {
      "cell_type": "code",
      "source": [
        "import numpy as np\n",
        "\n",
        "rolls = np.random.randint(1, 7, 1000)\n",
        "\n",
        "for i in range(1, 7):\n",
        "    count = np.count_nonzero(rolls == i)\n",
        "    print(\"Number\", i, \"dies in\", count, \"times\")\n",
        "    print(\"Probability =\", count / 1000)\n",
        "    print()"
      ],
      "metadata": {
        "colab": {
          "base_uri": "https://localhost:8080/"
        },
        "id": "2bz_rLWClQsh",
        "outputId": "560bcc9f-96f9-4619-b0cd-0f7ef6e7369a"
      },
      "execution_count": null,
      "outputs": [
        {
          "output_type": "stream",
          "name": "stdout",
          "text": [
            "Number 1 dies in 180 times\n",
            "Probability = 0.18\n",
            "\n",
            "Number 2 dies in 174 times\n",
            "Probability = 0.174\n",
            "\n",
            "Number 3 dies in 146 times\n",
            "Probability = 0.146\n",
            "\n",
            "Number 4 dies in 166 times\n",
            "Probability = 0.166\n",
            "\n",
            "Number 5 dies in 149 times\n",
            "Probability = 0.149\n",
            "\n",
            "Number 6 dies in 185 times\n",
            "Probability = 0.185\n",
            "\n"
          ]
        }
      ]
    },
    {
      "cell_type": "code",
      "source": [
        "\n",
        "\n",
        "\n",
        "import numpy as np\n",
        "count=0\n",
        "week = [34, 25, 35, 36, 37, 70, 10]\n",
        "days = [\"MONDAY\", \"TUESDAY\", \"WEDNESDAY\", \"THURSDAY\", \"FRIDAY\", \"SATURDAY\" ,\"SUNDAY\"]\n",
        "temp = np.array(week)\n",
        "print(temp)\n",
        "print()\n",
        "print(\"HIGHEST TEMPERATURE IN THIS WEEK IS =\", temp.max())\n",
        "print()\n",
        "print(\"LOWEST TEMPERATURE IN THIS WEEK IS =\", temp.min())\n",
        "print()\n",
        "print(\"AVERAGE TEMPERATURE IN THIS WEEK IS =\", temp.mean())\n",
        "print()\n",
        "high = temp.argmax()\n",
        "print(\"THE HOTTEST DAY IN THIS WEEK IS =\", days[high])\n",
        "print()\n",
        "low=temp.argmin()\n",
        "print(\"THE LOWEST DAY IN THIS WEEK IS =\", days[low])\n",
        "print()\n",
        "above=0\n",
        "below=0\n",
        "for i in temp:\n",
        "  if i>35.285714285714285:\n",
        "    above=above+1\n",
        "  else:\n",
        "    below=below+1\n",
        "print(\"ABOVE THE AVERAGE TEMPERATURE DAYS=\",above)\n",
        "print()\n",
        "print(\"BELOW THE AVERAGE TEMPERATURE DAYS=\",below)\n"
      ],
      "metadata": {
        "colab": {
          "base_uri": "https://localhost:8080/"
        },
        "id": "lCJsMaZ8l4qH",
        "outputId": "5d2744c8-03f9-4e98-dcd7-7d9e0b77ceee"
      },
      "execution_count": null,
      "outputs": [
        {
          "output_type": "stream",
          "name": "stdout",
          "text": [
            "[34 25 35 36 37 70 10]\n",
            "\n",
            "HIGHEST TEMPERATURE IN THIS WEEK IS = 70\n",
            "\n",
            "LOWEST TEMPERATURE IN THIS WEEK IS = 10\n",
            "\n",
            "AVERAGE TEMPERATURE IN THIS WEEK IS = 35.285714285714285\n",
            "\n",
            "THE HOTTEST DAY IN THIS WEEK IS = SATURDAY\n",
            "\n",
            "THE LOWEST DAY IN THIS WEEK IS = SUNDAY\n",
            "\n",
            "ABOVE THE AVERAGE TEMPERATURE DAYS= 3\n",
            "\n",
            "BELOW THE AVERAGE TEMPERATURE DAYS= 4\n"
          ]
        }
      ]
    },
    {
      "cell_type": "code",
      "source": [],
      "metadata": {
        "id": "0Z8sHrIUvyVZ"
      },
      "execution_count": null,
      "outputs": []
    }
  ]
}